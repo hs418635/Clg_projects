{
 "cells": [
  {
   "cell_type": "code",
   "execution_count": 114,
   "id": "73e6e9fa-1b5e-4ff4-9ef7-b2e3aeecdd11",
   "metadata": {},
   "outputs": [],
   "source": [
    "import pandas as pd\n",
    "import numpy as np\n",
    "import matplotlib.pyplot as plt\n",
    "from sklearn.model_selection import train_test_split\n",
    "from sklearn.ensemble import RandomForestClassifier\n",
    "from sklearn.metrics import f1_score, roc_auc_score\n",
    "import featuretools as ft"
   ]
  },
  {
   "cell_type": "code",
   "execution_count": 115,
   "id": "e4f69fbd-a04c-4bf0-8c29-fc00d161aa3e",
   "metadata": {},
   "outputs": [
    {
     "data": {
      "text/html": [
       "<div>\n",
       "<style scoped>\n",
       "    .dataframe tbody tr th:only-of-type {\n",
       "        vertical-align: middle;\n",
       "    }\n",
       "\n",
       "    .dataframe tbody tr th {\n",
       "        vertical-align: top;\n",
       "    }\n",
       "\n",
       "    .dataframe thead th {\n",
       "        text-align: right;\n",
       "    }\n",
       "</style>\n",
       "<table border=\"1\" class=\"dataframe\">\n",
       "  <thead>\n",
       "    <tr style=\"text-align: right;\">\n",
       "      <th></th>\n",
       "      <th>Date</th>\n",
       "      <th>Open</th>\n",
       "      <th>High</th>\n",
       "      <th>Low</th>\n",
       "      <th>Close</th>\n",
       "      <th>Volume</th>\n",
       "      <th>Dividends</th>\n",
       "      <th>Stock Splits</th>\n",
       "    </tr>\n",
       "  </thead>\n",
       "  <tbody>\n",
       "    <tr>\n",
       "      <th>0</th>\n",
       "      <td>2019-05-31</td>\n",
       "      <td>37.020000</td>\n",
       "      <td>37.984001</td>\n",
       "      <td>36.820000</td>\n",
       "      <td>37.032001</td>\n",
       "      <td>52033500</td>\n",
       "      <td>0</td>\n",
       "      <td>0.0</td>\n",
       "    </tr>\n",
       "    <tr>\n",
       "      <th>1</th>\n",
       "      <td>2019-06-03</td>\n",
       "      <td>37.102001</td>\n",
       "      <td>37.335999</td>\n",
       "      <td>35.397999</td>\n",
       "      <td>35.793999</td>\n",
       "      <td>65322000</td>\n",
       "      <td>0</td>\n",
       "      <td>0.0</td>\n",
       "    </tr>\n",
       "    <tr>\n",
       "      <th>2</th>\n",
       "      <td>2019-06-04</td>\n",
       "      <td>36.220001</td>\n",
       "      <td>38.796001</td>\n",
       "      <td>35.922001</td>\n",
       "      <td>38.720001</td>\n",
       "      <td>69037500</td>\n",
       "      <td>0</td>\n",
       "      <td>0.0</td>\n",
       "    </tr>\n",
       "    <tr>\n",
       "      <th>3</th>\n",
       "      <td>2019-06-05</td>\n",
       "      <td>39.736000</td>\n",
       "      <td>40.256001</td>\n",
       "      <td>38.369999</td>\n",
       "      <td>39.318001</td>\n",
       "      <td>67554000</td>\n",
       "      <td>0</td>\n",
       "      <td>0.0</td>\n",
       "    </tr>\n",
       "    <tr>\n",
       "      <th>4</th>\n",
       "      <td>2019-06-06</td>\n",
       "      <td>40.888000</td>\n",
       "      <td>42.200001</td>\n",
       "      <td>40.360001</td>\n",
       "      <td>41.189999</td>\n",
       "      <td>101211000</td>\n",
       "      <td>0</td>\n",
       "      <td>0.0</td>\n",
       "    </tr>\n",
       "  </tbody>\n",
       "</table>\n",
       "</div>"
      ],
      "text/plain": [
       "         Date       Open       High        Low      Close     Volume  \\\n",
       "0  2019-05-31  37.020000  37.984001  36.820000  37.032001   52033500   \n",
       "1  2019-06-03  37.102001  37.335999  35.397999  35.793999   65322000   \n",
       "2  2019-06-04  36.220001  38.796001  35.922001  38.720001   69037500   \n",
       "3  2019-06-05  39.736000  40.256001  38.369999  39.318001   67554000   \n",
       "4  2019-06-06  40.888000  42.200001  40.360001  41.189999  101211000   \n",
       "\n",
       "   Dividends  Stock Splits  \n",
       "0          0           0.0  \n",
       "1          0           0.0  \n",
       "2          0           0.0  \n",
       "3          0           0.0  \n",
       "4          0           0.0  "
      ]
     },
     "execution_count": 115,
     "metadata": {},
     "output_type": "execute_result"
    }
   ],
   "source": [
    "df = pd.read_csv(r'D:\\M.TECH DATA SCIENCE\\My project\\Feature_engineering\\TSLA.csv')\n",
    "df.head()"
   ]
  },
  {
   "cell_type": "code",
   "execution_count": 116,
   "id": "e746dad8-0355-41e4-aeba-678b0fd1e2f3",
   "metadata": {},
   "outputs": [
    {
     "data": {
      "text/plain": [
       "(526, 8)"
      ]
     },
     "execution_count": 116,
     "metadata": {},
     "output_type": "execute_result"
    }
   ],
   "source": [
    "df.shape"
   ]
  },
  {
   "cell_type": "code",
   "execution_count": 117,
   "id": "cccc8a7a-b84b-4934-9ba2-6e7bc62894c4",
   "metadata": {},
   "outputs": [
    {
     "name": "stdout",
     "output_type": "stream",
     "text": [
      "<class 'pandas.core.frame.DataFrame'>\n",
      "RangeIndex: 526 entries, 0 to 525\n",
      "Data columns (total 8 columns):\n",
      " #   Column        Non-Null Count  Dtype  \n",
      "---  ------        --------------  -----  \n",
      " 0   Date          526 non-null    object \n",
      " 1   Open          526 non-null    float64\n",
      " 2   High          526 non-null    float64\n",
      " 3   Low           526 non-null    float64\n",
      " 4   Close         526 non-null    float64\n",
      " 5   Volume        526 non-null    int64  \n",
      " 6   Dividends     526 non-null    int64  \n",
      " 7   Stock Splits  526 non-null    float64\n",
      "dtypes: float64(5), int64(2), object(1)\n",
      "memory usage: 33.0+ KB\n"
     ]
    }
   ],
   "source": [
    "df.info()"
   ]
  },
  {
   "cell_type": "code",
   "execution_count": 118,
   "id": "46c096e9-c045-4980-9ef6-63bcb69dd36c",
   "metadata": {},
   "outputs": [
    {
     "data": {
      "text/plain": [
       "Date            0\n",
       "Open            0\n",
       "High            0\n",
       "Low             0\n",
       "Close           0\n",
       "Volume          0\n",
       "Dividends       0\n",
       "Stock Splits    0\n",
       "dtype: int64"
      ]
     },
     "execution_count": 118,
     "metadata": {},
     "output_type": "execute_result"
    }
   ],
   "source": [
    "df.isna().sum()"
   ]
  },
  {
   "cell_type": "markdown",
   "id": "3928d715-36d4-41b5-86b9-1006e24d2f8d",
   "metadata": {},
   "source": [
    "#### Creating Target Variable\n",
    "We will create a target variable based on the stock price movement (e.g., price increase or decrease)."
   ]
  },
  {
   "cell_type": "code",
   "execution_count": 119,
   "id": "50dce35e-3572-48c3-bd09-ef3d6cdc353a",
   "metadata": {},
   "outputs": [],
   "source": [
    "# Create target variable\n",
    "df['Price_Change'] = np.where(df['Close'].shift(-1) > df['Close'], 1, 0)"
   ]
  },
  {
   "cell_type": "code",
   "execution_count": 120,
   "id": "334414b2-893d-42bd-a0bc-8c3606fab87a",
   "metadata": {},
   "outputs": [
    {
     "data": {
      "text/html": [
       "<div>\n",
       "<style scoped>\n",
       "    .dataframe tbody tr th:only-of-type {\n",
       "        vertical-align: middle;\n",
       "    }\n",
       "\n",
       "    .dataframe tbody tr th {\n",
       "        vertical-align: top;\n",
       "    }\n",
       "\n",
       "    .dataframe thead th {\n",
       "        text-align: right;\n",
       "    }\n",
       "</style>\n",
       "<table border=\"1\" class=\"dataframe\">\n",
       "  <thead>\n",
       "    <tr style=\"text-align: right;\">\n",
       "      <th></th>\n",
       "      <th>Date</th>\n",
       "      <th>Open</th>\n",
       "      <th>High</th>\n",
       "      <th>Low</th>\n",
       "      <th>Close</th>\n",
       "      <th>Volume</th>\n",
       "      <th>Dividends</th>\n",
       "      <th>Stock Splits</th>\n",
       "      <th>Price_Change</th>\n",
       "    </tr>\n",
       "  </thead>\n",
       "  <tbody>\n",
       "    <tr>\n",
       "      <th>0</th>\n",
       "      <td>2019-05-31</td>\n",
       "      <td>37.020000</td>\n",
       "      <td>37.984001</td>\n",
       "      <td>36.820000</td>\n",
       "      <td>37.032001</td>\n",
       "      <td>52033500</td>\n",
       "      <td>0</td>\n",
       "      <td>0.0</td>\n",
       "      <td>0</td>\n",
       "    </tr>\n",
       "    <tr>\n",
       "      <th>1</th>\n",
       "      <td>2019-06-03</td>\n",
       "      <td>37.102001</td>\n",
       "      <td>37.335999</td>\n",
       "      <td>35.397999</td>\n",
       "      <td>35.793999</td>\n",
       "      <td>65322000</td>\n",
       "      <td>0</td>\n",
       "      <td>0.0</td>\n",
       "      <td>1</td>\n",
       "    </tr>\n",
       "    <tr>\n",
       "      <th>2</th>\n",
       "      <td>2019-06-04</td>\n",
       "      <td>36.220001</td>\n",
       "      <td>38.796001</td>\n",
       "      <td>35.922001</td>\n",
       "      <td>38.720001</td>\n",
       "      <td>69037500</td>\n",
       "      <td>0</td>\n",
       "      <td>0.0</td>\n",
       "      <td>1</td>\n",
       "    </tr>\n",
       "  </tbody>\n",
       "</table>\n",
       "</div>"
      ],
      "text/plain": [
       "         Date       Open       High        Low      Close    Volume  \\\n",
       "0  2019-05-31  37.020000  37.984001  36.820000  37.032001  52033500   \n",
       "1  2019-06-03  37.102001  37.335999  35.397999  35.793999  65322000   \n",
       "2  2019-06-04  36.220001  38.796001  35.922001  38.720001  69037500   \n",
       "\n",
       "   Dividends  Stock Splits  Price_Change  \n",
       "0          0           0.0             0  \n",
       "1          0           0.0             1  \n",
       "2          0           0.0             1  "
      ]
     },
     "execution_count": 120,
     "metadata": {},
     "output_type": "execute_result"
    }
   ],
   "source": [
    "df.head(3)"
   ]
  },
  {
   "cell_type": "markdown",
   "id": "7b8cddf6-4db3-4c87-920a-e59aab9150b7",
   "metadata": {},
   "source": [
    "#### Feature Engineering\n",
    "We'll generate new features such as moving averages, price differences, and more."
   ]
  },
  {
   "cell_type": "code",
   "execution_count": 121,
   "id": "6c32fecd-cf8b-498f-821a-0bdc4d88db72",
   "metadata": {},
   "outputs": [],
   "source": [
    "# Create rolling averages\n",
    "df['Rolling_Mean_5'] = df['Close'].rolling(window=5).mean()\n",
    "df['Rolling_Mean_10'] = df['Close'].rolling(window=10).mean()\n",
    "\n",
    "# Price differences\n",
    "df['Price_Diff'] = df['Close'] - df['Open']\n",
    "\n",
    "# High-Low percentage\n",
    "df['HL_Pct'] = (df['High'] - df['Low']) / df['Low'] * 100.0\n",
    "\n",
    "# Percentage change\n",
    "df['Pct_Change'] = (df['Close'] - df['Open']) / df['Open'] * 100.0"
   ]
  },
  {
   "cell_type": "code",
   "execution_count": 122,
   "id": "1b9b8f20-c5d8-4a35-b8b8-041b757c04a8",
   "metadata": {
    "scrolled": true
   },
   "outputs": [
    {
     "data": {
      "text/html": [
       "<div>\n",
       "<style scoped>\n",
       "    .dataframe tbody tr th:only-of-type {\n",
       "        vertical-align: middle;\n",
       "    }\n",
       "\n",
       "    .dataframe tbody tr th {\n",
       "        vertical-align: top;\n",
       "    }\n",
       "\n",
       "    .dataframe thead th {\n",
       "        text-align: right;\n",
       "    }\n",
       "</style>\n",
       "<table border=\"1\" class=\"dataframe\">\n",
       "  <thead>\n",
       "    <tr style=\"text-align: right;\">\n",
       "      <th></th>\n",
       "      <th>Date</th>\n",
       "      <th>Open</th>\n",
       "      <th>High</th>\n",
       "      <th>Low</th>\n",
       "      <th>Close</th>\n",
       "      <th>Volume</th>\n",
       "      <th>Dividends</th>\n",
       "      <th>Stock Splits</th>\n",
       "      <th>Price_Change</th>\n",
       "      <th>Rolling_Mean_5</th>\n",
       "      <th>Rolling_Mean_10</th>\n",
       "      <th>Price_Diff</th>\n",
       "      <th>HL_Pct</th>\n",
       "      <th>Pct_Change</th>\n",
       "    </tr>\n",
       "  </thead>\n",
       "  <tbody>\n",
       "    <tr>\n",
       "      <th>0</th>\n",
       "      <td>2019-05-31</td>\n",
       "      <td>37.020000</td>\n",
       "      <td>37.984001</td>\n",
       "      <td>36.820000</td>\n",
       "      <td>37.032001</td>\n",
       "      <td>52033500</td>\n",
       "      <td>0</td>\n",
       "      <td>0.0</td>\n",
       "      <td>0</td>\n",
       "      <td>NaN</td>\n",
       "      <td>NaN</td>\n",
       "      <td>0.012001</td>\n",
       "      <td>3.161329</td>\n",
       "      <td>0.032418</td>\n",
       "    </tr>\n",
       "    <tr>\n",
       "      <th>1</th>\n",
       "      <td>2019-06-03</td>\n",
       "      <td>37.102001</td>\n",
       "      <td>37.335999</td>\n",
       "      <td>35.397999</td>\n",
       "      <td>35.793999</td>\n",
       "      <td>65322000</td>\n",
       "      <td>0</td>\n",
       "      <td>0.0</td>\n",
       "      <td>1</td>\n",
       "      <td>NaN</td>\n",
       "      <td>NaN</td>\n",
       "      <td>-1.308002</td>\n",
       "      <td>5.474885</td>\n",
       "      <td>-3.525423</td>\n",
       "    </tr>\n",
       "    <tr>\n",
       "      <th>2</th>\n",
       "      <td>2019-06-04</td>\n",
       "      <td>36.220001</td>\n",
       "      <td>38.796001</td>\n",
       "      <td>35.922001</td>\n",
       "      <td>38.720001</td>\n",
       "      <td>69037500</td>\n",
       "      <td>0</td>\n",
       "      <td>0.0</td>\n",
       "      <td>1</td>\n",
       "      <td>NaN</td>\n",
       "      <td>NaN</td>\n",
       "      <td>2.500000</td>\n",
       "      <td>8.000669</td>\n",
       "      <td>6.902264</td>\n",
       "    </tr>\n",
       "    <tr>\n",
       "      <th>3</th>\n",
       "      <td>2019-06-05</td>\n",
       "      <td>39.736000</td>\n",
       "      <td>40.256001</td>\n",
       "      <td>38.369999</td>\n",
       "      <td>39.318001</td>\n",
       "      <td>67554000</td>\n",
       "      <td>0</td>\n",
       "      <td>0.0</td>\n",
       "      <td>1</td>\n",
       "      <td>NaN</td>\n",
       "      <td>NaN</td>\n",
       "      <td>-0.417999</td>\n",
       "      <td>4.915303</td>\n",
       "      <td>-1.051941</td>\n",
       "    </tr>\n",
       "    <tr>\n",
       "      <th>4</th>\n",
       "      <td>2019-06-06</td>\n",
       "      <td>40.888000</td>\n",
       "      <td>42.200001</td>\n",
       "      <td>40.360001</td>\n",
       "      <td>41.189999</td>\n",
       "      <td>101211000</td>\n",
       "      <td>0</td>\n",
       "      <td>0.0</td>\n",
       "      <td>0</td>\n",
       "      <td>38.4108</td>\n",
       "      <td>NaN</td>\n",
       "      <td>0.301998</td>\n",
       "      <td>4.558970</td>\n",
       "      <td>0.738598</td>\n",
       "    </tr>\n",
       "  </tbody>\n",
       "</table>\n",
       "</div>"
      ],
      "text/plain": [
       "         Date       Open       High        Low      Close     Volume  \\\n",
       "0  2019-05-31  37.020000  37.984001  36.820000  37.032001   52033500   \n",
       "1  2019-06-03  37.102001  37.335999  35.397999  35.793999   65322000   \n",
       "2  2019-06-04  36.220001  38.796001  35.922001  38.720001   69037500   \n",
       "3  2019-06-05  39.736000  40.256001  38.369999  39.318001   67554000   \n",
       "4  2019-06-06  40.888000  42.200001  40.360001  41.189999  101211000   \n",
       "\n",
       "   Dividends  Stock Splits  Price_Change  Rolling_Mean_5  Rolling_Mean_10  \\\n",
       "0          0           0.0             0             NaN              NaN   \n",
       "1          0           0.0             1             NaN              NaN   \n",
       "2          0           0.0             1             NaN              NaN   \n",
       "3          0           0.0             1             NaN              NaN   \n",
       "4          0           0.0             0         38.4108              NaN   \n",
       "\n",
       "   Price_Diff    HL_Pct  Pct_Change  \n",
       "0    0.012001  3.161329    0.032418  \n",
       "1   -1.308002  5.474885   -3.525423  \n",
       "2    2.500000  8.000669    6.902264  \n",
       "3   -0.417999  4.915303   -1.051941  \n",
       "4    0.301998  4.558970    0.738598  "
      ]
     },
     "execution_count": 122,
     "metadata": {},
     "output_type": "execute_result"
    }
   ],
   "source": [
    "df.head()"
   ]
  },
  {
   "cell_type": "markdown",
   "id": "98f092cf-1e59-427a-9e6a-172ca180c570",
   "metadata": {},
   "source": [
    "#### shuffling columns"
   ]
  },
  {
   "cell_type": "code",
   "execution_count": 123,
   "id": "a3caf6c9-b716-419a-9811-bea9abf69719",
   "metadata": {
    "scrolled": true
   },
   "outputs": [
    {
     "data": {
      "text/plain": [
       "Index(['Date', 'Open', 'High', 'Low', 'Close', 'Volume', 'Dividends',\n",
       "       'Stock Splits', 'Price_Change', 'Rolling_Mean_5', 'Rolling_Mean_10',\n",
       "       'Price_Diff', 'HL_Pct', 'Pct_Change'],\n",
       "      dtype='object')"
      ]
     },
     "execution_count": 123,
     "metadata": {},
     "output_type": "execute_result"
    }
   ],
   "source": [
    "df.columns"
   ]
  },
  {
   "cell_type": "code",
   "execution_count": 124,
   "id": "f42deaa1-811e-4cbc-801a-088e10bd94dc",
   "metadata": {},
   "outputs": [],
   "source": [
    "df = df.reindex(columns=['Date', 'Open', 'High', 'Low', 'Close', 'Volume', 'Dividends',\n",
    "       'Stock Splits', 'Rolling_Mean_5', 'Rolling_Mean_10',\n",
    "       'Price_Diff', 'HL_Pct', 'Pct_Change','Price_Change'])"
   ]
  },
  {
   "cell_type": "code",
   "execution_count": 125,
   "id": "dabe40ed-aa1d-438e-bbfb-a7eedb18e6af",
   "metadata": {},
   "outputs": [
    {
     "data": {
      "text/plain": [
       "(526, 14)"
      ]
     },
     "execution_count": 125,
     "metadata": {},
     "output_type": "execute_result"
    }
   ],
   "source": [
    "df.shape"
   ]
  },
  {
   "cell_type": "markdown",
   "id": "a2ca0725-8f95-4e84-9a0d-4e7e2079ff50",
   "metadata": {},
   "source": [
    "#### 4. Feature Selection\n",
    "We'll drop unnecessary columns and prepare the data for modeling."
   ]
  },
  {
   "cell_type": "code",
   "execution_count": 126,
   "id": "95bc5419-8bc2-4655-8c1b-25e5b62485d5",
   "metadata": {},
   "outputs": [
    {
     "data": {
      "text/html": [
       "<div>\n",
       "<style scoped>\n",
       "    .dataframe tbody tr th:only-of-type {\n",
       "        vertical-align: middle;\n",
       "    }\n",
       "\n",
       "    .dataframe tbody tr th {\n",
       "        vertical-align: top;\n",
       "    }\n",
       "\n",
       "    .dataframe thead th {\n",
       "        text-align: right;\n",
       "    }\n",
       "</style>\n",
       "<table border=\"1\" class=\"dataframe\">\n",
       "  <thead>\n",
       "    <tr style=\"text-align: right;\">\n",
       "      <th></th>\n",
       "      <th>Open</th>\n",
       "      <th>High</th>\n",
       "      <th>Low</th>\n",
       "      <th>Close</th>\n",
       "      <th>Volume</th>\n",
       "      <th>Rolling_Mean_5</th>\n",
       "      <th>Rolling_Mean_10</th>\n",
       "      <th>Price_Diff</th>\n",
       "      <th>HL_Pct</th>\n",
       "      <th>Pct_Change</th>\n",
       "      <th>Price_Change</th>\n",
       "    </tr>\n",
       "  </thead>\n",
       "  <tbody>\n",
       "    <tr>\n",
       "      <th>0</th>\n",
       "      <td>37.020000</td>\n",
       "      <td>37.984001</td>\n",
       "      <td>36.820000</td>\n",
       "      <td>37.032001</td>\n",
       "      <td>52033500</td>\n",
       "      <td>NaN</td>\n",
       "      <td>NaN</td>\n",
       "      <td>0.012001</td>\n",
       "      <td>3.161329</td>\n",
       "      <td>0.032418</td>\n",
       "      <td>0</td>\n",
       "    </tr>\n",
       "    <tr>\n",
       "      <th>1</th>\n",
       "      <td>37.102001</td>\n",
       "      <td>37.335999</td>\n",
       "      <td>35.397999</td>\n",
       "      <td>35.793999</td>\n",
       "      <td>65322000</td>\n",
       "      <td>NaN</td>\n",
       "      <td>NaN</td>\n",
       "      <td>-1.308002</td>\n",
       "      <td>5.474885</td>\n",
       "      <td>-3.525423</td>\n",
       "      <td>1</td>\n",
       "    </tr>\n",
       "    <tr>\n",
       "      <th>2</th>\n",
       "      <td>36.220001</td>\n",
       "      <td>38.796001</td>\n",
       "      <td>35.922001</td>\n",
       "      <td>38.720001</td>\n",
       "      <td>69037500</td>\n",
       "      <td>NaN</td>\n",
       "      <td>NaN</td>\n",
       "      <td>2.500000</td>\n",
       "      <td>8.000669</td>\n",
       "      <td>6.902264</td>\n",
       "      <td>1</td>\n",
       "    </tr>\n",
       "    <tr>\n",
       "      <th>3</th>\n",
       "      <td>39.736000</td>\n",
       "      <td>40.256001</td>\n",
       "      <td>38.369999</td>\n",
       "      <td>39.318001</td>\n",
       "      <td>67554000</td>\n",
       "      <td>NaN</td>\n",
       "      <td>NaN</td>\n",
       "      <td>-0.417999</td>\n",
       "      <td>4.915303</td>\n",
       "      <td>-1.051941</td>\n",
       "      <td>1</td>\n",
       "    </tr>\n",
       "    <tr>\n",
       "      <th>4</th>\n",
       "      <td>40.888000</td>\n",
       "      <td>42.200001</td>\n",
       "      <td>40.360001</td>\n",
       "      <td>41.189999</td>\n",
       "      <td>101211000</td>\n",
       "      <td>38.4108</td>\n",
       "      <td>NaN</td>\n",
       "      <td>0.301998</td>\n",
       "      <td>4.558970</td>\n",
       "      <td>0.738598</td>\n",
       "      <td>0</td>\n",
       "    </tr>\n",
       "  </tbody>\n",
       "</table>\n",
       "</div>"
      ],
      "text/plain": [
       "        Open       High        Low      Close     Volume  Rolling_Mean_5  \\\n",
       "0  37.020000  37.984001  36.820000  37.032001   52033500             NaN   \n",
       "1  37.102001  37.335999  35.397999  35.793999   65322000             NaN   \n",
       "2  36.220001  38.796001  35.922001  38.720001   69037500             NaN   \n",
       "3  39.736000  40.256001  38.369999  39.318001   67554000             NaN   \n",
       "4  40.888000  42.200001  40.360001  41.189999  101211000         38.4108   \n",
       "\n",
       "   Rolling_Mean_10  Price_Diff    HL_Pct  Pct_Change  Price_Change  \n",
       "0              NaN    0.012001  3.161329    0.032418             0  \n",
       "1              NaN   -1.308002  5.474885   -3.525423             1  \n",
       "2              NaN    2.500000  8.000669    6.902264             1  \n",
       "3              NaN   -0.417999  4.915303   -1.051941             1  \n",
       "4              NaN    0.301998  4.558970    0.738598             0  "
      ]
     },
     "execution_count": 126,
     "metadata": {},
     "output_type": "execute_result"
    }
   ],
   "source": [
    "# Drop irrelevant columns\n",
    "df = df.drop(columns=['Date', 'Dividends', 'Stock Splits'])\n",
    "df.head()"
   ]
  },
  {
   "cell_type": "code",
   "execution_count": 127,
   "id": "3f3cd451-bb47-416c-b771-f446e9100630",
   "metadata": {},
   "outputs": [
    {
     "data": {
      "text/plain": [
       "Open               0\n",
       "High               0\n",
       "Low                0\n",
       "Close              0\n",
       "Volume             0\n",
       "Rolling_Mean_5     4\n",
       "Rolling_Mean_10    9\n",
       "Price_Diff         0\n",
       "HL_Pct             0\n",
       "Pct_Change         0\n",
       "Price_Change       0\n",
       "dtype: int64"
      ]
     },
     "execution_count": 127,
     "metadata": {},
     "output_type": "execute_result"
    }
   ],
   "source": [
    "df.isna().sum()"
   ]
  },
  {
   "cell_type": "code",
   "execution_count": 128,
   "id": "f470bfce-6cec-41aa-abc0-253c09279379",
   "metadata": {},
   "outputs": [],
   "source": [
    "# filling null values\n",
    "from sklearn.impute import SimpleImputer\n",
    "imputer = SimpleImputer(strategy='mean')\n",
    "df_imputed = pd.DataFrame(imputer.fit_transform(df),columns=df.columns)"
   ]
  },
  {
   "cell_type": "code",
   "execution_count": 129,
   "id": "79237531-ce02-4c11-ad17-ef8ceef343fe",
   "metadata": {},
   "outputs": [
    {
     "data": {
      "text/html": [
       "<div>\n",
       "<style scoped>\n",
       "    .dataframe tbody tr th:only-of-type {\n",
       "        vertical-align: middle;\n",
       "    }\n",
       "\n",
       "    .dataframe tbody tr th {\n",
       "        vertical-align: top;\n",
       "    }\n",
       "\n",
       "    .dataframe thead th {\n",
       "        text-align: right;\n",
       "    }\n",
       "</style>\n",
       "<table border=\"1\" class=\"dataframe\">\n",
       "  <thead>\n",
       "    <tr style=\"text-align: right;\">\n",
       "      <th></th>\n",
       "      <th>Open</th>\n",
       "      <th>High</th>\n",
       "      <th>Low</th>\n",
       "      <th>Close</th>\n",
       "      <th>Volume</th>\n",
       "      <th>Rolling_Mean_5</th>\n",
       "      <th>Rolling_Mean_10</th>\n",
       "      <th>Price_Diff</th>\n",
       "      <th>HL_Pct</th>\n",
       "      <th>Pct_Change</th>\n",
       "      <th>Price_Change</th>\n",
       "    </tr>\n",
       "  </thead>\n",
       "  <tbody>\n",
       "    <tr>\n",
       "      <th>0</th>\n",
       "      <td>37.020000</td>\n",
       "      <td>37.984001</td>\n",
       "      <td>36.820000</td>\n",
       "      <td>37.032001</td>\n",
       "      <td>52033500.0</td>\n",
       "      <td>319.863916</td>\n",
       "      <td>319.560016</td>\n",
       "      <td>0.012001</td>\n",
       "      <td>3.161329</td>\n",
       "      <td>0.032418</td>\n",
       "      <td>0.0</td>\n",
       "    </tr>\n",
       "    <tr>\n",
       "      <th>1</th>\n",
       "      <td>37.102001</td>\n",
       "      <td>37.335999</td>\n",
       "      <td>35.397999</td>\n",
       "      <td>35.793999</td>\n",
       "      <td>65322000.0</td>\n",
       "      <td>319.863916</td>\n",
       "      <td>319.560016</td>\n",
       "      <td>-1.308002</td>\n",
       "      <td>5.474885</td>\n",
       "      <td>-3.525423</td>\n",
       "      <td>1.0</td>\n",
       "    </tr>\n",
       "    <tr>\n",
       "      <th>2</th>\n",
       "      <td>36.220001</td>\n",
       "      <td>38.796001</td>\n",
       "      <td>35.922001</td>\n",
       "      <td>38.720001</td>\n",
       "      <td>69037500.0</td>\n",
       "      <td>319.863916</td>\n",
       "      <td>319.560016</td>\n",
       "      <td>2.500000</td>\n",
       "      <td>8.000669</td>\n",
       "      <td>6.902264</td>\n",
       "      <td>1.0</td>\n",
       "    </tr>\n",
       "    <tr>\n",
       "      <th>3</th>\n",
       "      <td>39.736000</td>\n",
       "      <td>40.256001</td>\n",
       "      <td>38.369999</td>\n",
       "      <td>39.318001</td>\n",
       "      <td>67554000.0</td>\n",
       "      <td>319.863916</td>\n",
       "      <td>319.560016</td>\n",
       "      <td>-0.417999</td>\n",
       "      <td>4.915303</td>\n",
       "      <td>-1.051941</td>\n",
       "      <td>1.0</td>\n",
       "    </tr>\n",
       "    <tr>\n",
       "      <th>4</th>\n",
       "      <td>40.888000</td>\n",
       "      <td>42.200001</td>\n",
       "      <td>40.360001</td>\n",
       "      <td>41.189999</td>\n",
       "      <td>101211000.0</td>\n",
       "      <td>38.410800</td>\n",
       "      <td>319.560016</td>\n",
       "      <td>0.301998</td>\n",
       "      <td>4.558970</td>\n",
       "      <td>0.738598</td>\n",
       "      <td>0.0</td>\n",
       "    </tr>\n",
       "  </tbody>\n",
       "</table>\n",
       "</div>"
      ],
      "text/plain": [
       "        Open       High        Low      Close       Volume  Rolling_Mean_5  \\\n",
       "0  37.020000  37.984001  36.820000  37.032001   52033500.0      319.863916   \n",
       "1  37.102001  37.335999  35.397999  35.793999   65322000.0      319.863916   \n",
       "2  36.220001  38.796001  35.922001  38.720001   69037500.0      319.863916   \n",
       "3  39.736000  40.256001  38.369999  39.318001   67554000.0      319.863916   \n",
       "4  40.888000  42.200001  40.360001  41.189999  101211000.0       38.410800   \n",
       "\n",
       "   Rolling_Mean_10  Price_Diff    HL_Pct  Pct_Change  Price_Change  \n",
       "0       319.560016    0.012001  3.161329    0.032418           0.0  \n",
       "1       319.560016   -1.308002  5.474885   -3.525423           1.0  \n",
       "2       319.560016    2.500000  8.000669    6.902264           1.0  \n",
       "3       319.560016   -0.417999  4.915303   -1.051941           1.0  \n",
       "4       319.560016    0.301998  4.558970    0.738598           0.0  "
      ]
     },
     "execution_count": 129,
     "metadata": {},
     "output_type": "execute_result"
    }
   ],
   "source": [
    "df_imputed.head()"
   ]
  },
  {
   "cell_type": "markdown",
   "id": "b4dff6ae-db35-431c-9b79-cbde48d61217",
   "metadata": {},
   "source": [
    "#### 5. Splitting Data\n",
    "Split the data into training and testing sets."
   ]
  },
  {
   "cell_type": "code",
   "execution_count": 130,
   "id": "2c09a23e-2b9e-4808-8a72-73d6d380f749",
   "metadata": {},
   "outputs": [],
   "source": [
    "from sklearn.model_selection import train_test_split\n",
    "train,test = train_test_split(df_imputed,train_size=0.8)"
   ]
  },
  {
   "cell_type": "code",
   "execution_count": 131,
   "id": "856469b9-6505-42d2-9442-55212854ca4f",
   "metadata": {},
   "outputs": [
    {
     "data": {
      "text/plain": [
       "(526, 11)"
      ]
     },
     "execution_count": 131,
     "metadata": {},
     "output_type": "execute_result"
    }
   ],
   "source": [
    "df_imputed.shape"
   ]
  },
  {
   "cell_type": "code",
   "execution_count": 132,
   "id": "ff21593a-7c56-48f8-866c-69567562a4a2",
   "metadata": {},
   "outputs": [
    {
     "data": {
      "text/plain": [
       "(420, 11)"
      ]
     },
     "execution_count": 132,
     "metadata": {},
     "output_type": "execute_result"
    }
   ],
   "source": [
    "train.shape"
   ]
  },
  {
   "cell_type": "code",
   "execution_count": 133,
   "id": "16224430-375a-40d3-8bb4-997648404152",
   "metadata": {},
   "outputs": [
    {
     "data": {
      "text/plain": [
       "(106, 11)"
      ]
     },
     "execution_count": 133,
     "metadata": {},
     "output_type": "execute_result"
    }
   ],
   "source": [
    "test.shape"
   ]
  },
  {
   "cell_type": "code",
   "execution_count": 134,
   "id": "8d2c9b02-f578-4a89-9528-f715e419c360",
   "metadata": {},
   "outputs": [],
   "source": [
    "trainx = train.iloc[:,:-1] # all the independent variables except price_change column \n",
    "trainy = train.iloc[:,-1] # dependent variable is price_change"
   ]
  },
  {
   "cell_type": "code",
   "execution_count": 135,
   "id": "423d1892-3489-4340-b0d3-cb26f91e6012",
   "metadata": {},
   "outputs": [],
   "source": [
    "testx = test.iloc[:,:-1]  \n",
    "testy = test.iloc[:,-1]"
   ]
  },
  {
   "cell_type": "markdown",
   "id": "528ff9dc-90c0-4a25-b50d-042035aaa10a",
   "metadata": {},
   "source": [
    "### 6. Model Building\n",
    "We'll build a Random Forest model.\n",
    "\n",
    "**Why Use Random Forest for Stock Data?**\n",
    "\n",
    "Handling Non-Linearity: Stock market data often exhibits non-linear relationships between features (e.g., stock prices, volume, and other financial indicators). Random Forest, as an ensemble of decision trees, is capable of capturing complex, non-linear interactions between variables, which might not be possible with linear models like Multiple Linear Regression.\n",
    "\n",
    "Feature Importance: Random Forests provide feature importance scores, helping identify which features contribute the most to the prediction. This is particularly useful in stock market analysis, where understanding the importance of different factors can provide insights into market behavior."
   ]
  },
  {
   "cell_type": "code",
   "execution_count": 136,
   "id": "de5b863c-33e9-4c6d-800c-d9db7b96ff53",
   "metadata": {},
   "outputs": [
    {
     "data": {
      "text/html": [
       "<style>#sk-container-id-3 {color: black;background-color: white;}#sk-container-id-3 pre{padding: 0;}#sk-container-id-3 div.sk-toggleable {background-color: white;}#sk-container-id-3 label.sk-toggleable__label {cursor: pointer;display: block;width: 100%;margin-bottom: 0;padding: 0.3em;box-sizing: border-box;text-align: center;}#sk-container-id-3 label.sk-toggleable__label-arrow:before {content: \"▸\";float: left;margin-right: 0.25em;color: #696969;}#sk-container-id-3 label.sk-toggleable__label-arrow:hover:before {color: black;}#sk-container-id-3 div.sk-estimator:hover label.sk-toggleable__label-arrow:before {color: black;}#sk-container-id-3 div.sk-toggleable__content {max-height: 0;max-width: 0;overflow: hidden;text-align: left;background-color: #f0f8ff;}#sk-container-id-3 div.sk-toggleable__content pre {margin: 0.2em;color: black;border-radius: 0.25em;background-color: #f0f8ff;}#sk-container-id-3 input.sk-toggleable__control:checked~div.sk-toggleable__content {max-height: 200px;max-width: 100%;overflow: auto;}#sk-container-id-3 input.sk-toggleable__control:checked~label.sk-toggleable__label-arrow:before {content: \"▾\";}#sk-container-id-3 div.sk-estimator input.sk-toggleable__control:checked~label.sk-toggleable__label {background-color: #d4ebff;}#sk-container-id-3 div.sk-label input.sk-toggleable__control:checked~label.sk-toggleable__label {background-color: #d4ebff;}#sk-container-id-3 input.sk-hidden--visually {border: 0;clip: rect(1px 1px 1px 1px);clip: rect(1px, 1px, 1px, 1px);height: 1px;margin: -1px;overflow: hidden;padding: 0;position: absolute;width: 1px;}#sk-container-id-3 div.sk-estimator {font-family: monospace;background-color: #f0f8ff;border: 1px dotted black;border-radius: 0.25em;box-sizing: border-box;margin-bottom: 0.5em;}#sk-container-id-3 div.sk-estimator:hover {background-color: #d4ebff;}#sk-container-id-3 div.sk-parallel-item::after {content: \"\";width: 100%;border-bottom: 1px solid gray;flex-grow: 1;}#sk-container-id-3 div.sk-label:hover label.sk-toggleable__label {background-color: #d4ebff;}#sk-container-id-3 div.sk-serial::before {content: \"\";position: absolute;border-left: 1px solid gray;box-sizing: border-box;top: 0;bottom: 0;left: 50%;z-index: 0;}#sk-container-id-3 div.sk-serial {display: flex;flex-direction: column;align-items: center;background-color: white;padding-right: 0.2em;padding-left: 0.2em;position: relative;}#sk-container-id-3 div.sk-item {position: relative;z-index: 1;}#sk-container-id-3 div.sk-parallel {display: flex;align-items: stretch;justify-content: center;background-color: white;position: relative;}#sk-container-id-3 div.sk-item::before, #sk-container-id-3 div.sk-parallel-item::before {content: \"\";position: absolute;border-left: 1px solid gray;box-sizing: border-box;top: 0;bottom: 0;left: 50%;z-index: -1;}#sk-container-id-3 div.sk-parallel-item {display: flex;flex-direction: column;z-index: 1;position: relative;background-color: white;}#sk-container-id-3 div.sk-parallel-item:first-child::after {align-self: flex-end;width: 50%;}#sk-container-id-3 div.sk-parallel-item:last-child::after {align-self: flex-start;width: 50%;}#sk-container-id-3 div.sk-parallel-item:only-child::after {width: 0;}#sk-container-id-3 div.sk-dashed-wrapped {border: 1px dashed gray;margin: 0 0.4em 0.5em 0.4em;box-sizing: border-box;padding-bottom: 0.4em;background-color: white;}#sk-container-id-3 div.sk-label label {font-family: monospace;font-weight: bold;display: inline-block;line-height: 1.2em;}#sk-container-id-3 div.sk-label-container {text-align: center;}#sk-container-id-3 div.sk-container {/* jupyter's `normalize.less` sets `[hidden] { display: none; }` but bootstrap.min.css set `[hidden] { display: none !important; }` so we also need the `!important` here to be able to override the default hidden behavior on the sphinx rendered scikit-learn.org. See: https://github.com/scikit-learn/scikit-learn/issues/21755 */display: inline-block !important;position: relative;}#sk-container-id-3 div.sk-text-repr-fallback {display: none;}</style><div id=\"sk-container-id-3\" class=\"sk-top-container\"><div class=\"sk-text-repr-fallback\"><pre>RandomForestClassifier(random_state=42)</pre><b>In a Jupyter environment, please rerun this cell to show the HTML representation or trust the notebook. <br />On GitHub, the HTML representation is unable to render, please try loading this page with nbviewer.org.</b></div><div class=\"sk-container\" hidden><div class=\"sk-item\"><div class=\"sk-estimator sk-toggleable\"><input class=\"sk-toggleable__control sk-hidden--visually\" id=\"sk-estimator-id-3\" type=\"checkbox\" checked><label for=\"sk-estimator-id-3\" class=\"sk-toggleable__label sk-toggleable__label-arrow\">RandomForestClassifier</label><div class=\"sk-toggleable__content\"><pre>RandomForestClassifier(random_state=42)</pre></div></div></div></div></div>"
      ],
      "text/plain": [
       "RandomForestClassifier(random_state=42)"
      ]
     },
     "execution_count": 136,
     "metadata": {},
     "output_type": "execute_result"
    }
   ],
   "source": [
    "from sklearn.ensemble import RandomForestClassifier\n",
    "\n",
    "# Initialize the model\n",
    "model = RandomForestClassifier(n_estimators=100, random_state=42)\n",
    "\n",
    "# Train the model\n",
    "model.fit(trainx, trainy)"
   ]
  },
  {
   "cell_type": "markdown",
   "id": "890aeec0-5c12-4889-a729-3ca0f048893c",
   "metadata": {},
   "source": [
    "#### 7. Model Evaluation\n",
    "Evaluate the model using F1-score and AUC-ROC."
   ]
  },
  {
   "cell_type": "code",
   "execution_count": 137,
   "id": "bf55c488-840d-489d-9d8d-c82f4a1b9450",
   "metadata": {},
   "outputs": [],
   "source": [
    "from sklearn.metrics import f1_score, roc_auc_score\n",
    "# Predict the test set\n",
    "y_pred = model.predict(testx)"
   ]
  },
  {
   "cell_type": "code",
   "execution_count": 138,
   "id": "6cbef62b-43ff-44a8-afa4-3a99db14a6d6",
   "metadata": {},
   "outputs": [
    {
     "name": "stdout",
     "output_type": "stream",
     "text": [
      "F1 Score: 0.5391304347826086\n"
     ]
    }
   ],
   "source": [
    "# F1 Score\n",
    "f1 = f1_score(testy, y_pred)\n",
    "print(f\"F1 Score: {f1}\")"
   ]
  },
  {
   "cell_type": "code",
   "execution_count": 139,
   "id": "54b67a08-b98c-4990-8c42-ee4e4a67fe12",
   "metadata": {},
   "outputs": [
    {
     "name": "stdout",
     "output_type": "stream",
     "text": [
      "AUC-ROC: 0.5140819964349376\n"
     ]
    }
   ],
   "source": [
    "# AUC-ROC Score\n",
    "y_prob = model.predict_proba(testx)[:, 1]\n",
    "auc = roc_auc_score(testy, y_prob)\n",
    "print(f\"AUC-ROC: {auc}\")"
   ]
  },
  {
   "cell_type": "code",
   "execution_count": 141,
   "id": "c5619674-103b-466f-b247-9b8b98426093",
   "metadata": {},
   "outputs": [
    {
     "name": "stdout",
     "output_type": "stream",
     "text": [
      "AUC-ROC Score: 0.5140819964349376\n"
     ]
    }
   ],
   "source": [
    "# Calculate AUC-ROC score\n",
    "auc_roc = roc_auc_score(testy, y_prob)\n",
    "print(f\"AUC-ROC Score: {auc_roc}\")"
   ]
  },
  {
   "cell_type": "code",
   "execution_count": 142,
   "id": "c10783ee-4353-4ce7-8ed8-bfac73710c0c",
   "metadata": {},
   "outputs": [
    {
     "name": "stderr",
     "output_type": "stream",
     "text": [
      "C:\\Users\\HIMANSHU SURYAVANSHI\\AppData\\Local\\Temp\\ipykernel_4156\\2103228235.py:6: UserWarning: color is redundantly defined by the 'color' keyword argument and the fmt string \"k--\" (-> color='k'). The keyword argument will take precedence.\n",
      "  plt.plot([0, 1], [0, 1], 'k--', color='r')\n"
     ]
    },
    {
     "data": {
      "image/png": "[encoded data removed]",
      "text/plain": [
       "<Figure size 800x600 with 1 Axes>"
      ]
     },
     "metadata": {},
     "output_type": "display_data"
    }
   ],
   "source": [
    "# Plotting the ROC Curve\n",
    "from sklearn.metrics import roc_curve\n",
    "fpr, tpr, _ = roc_curve(testy, y_prob)\n",
    "plt.figure(figsize=(8, 6))\n",
    "plt.plot(fpr, tpr, label=f'AUC-ROC: {auc_roc:.2f}', color='b')\n",
    "plt.plot([0, 1], [0, 1], 'k--', color='r')\n",
    "plt.xlabel('False Positive Rate')\n",
    "plt.ylabel('True Positive Rate')\n",
    "plt.title('ROC Curve')\n",
    "plt.legend(loc='best')\n",
    "plt.show()"
   ]
  },
  {
   "cell_type": "code",
   "execution_count": null,
   "id": "4ef4bd2a-a703-4bfe-8d29-f9150bbb9e5f",
   "metadata": {},
   "outputs": [],
   "source": []
  }
 ],
 "metadata": {
  "kernelspec": {
   "display_name": "Python 3 (ipykernel)",
   "language": "python",
   "name": "python3"
  },
  "language_info": {
   "codemirror_mode": {
    "name": "ipython",
    "version": 3
   },
   "file_extension": ".py",
   "mimetype": "text/x-python",
   "name": "python",
   "nbconvert_exporter": "python",
   "pygments_lexer": "ipython3",
   "version": "3.11.7"
  },
  "widgets": {
   "application/vnd.jupyter.widget-state+json": {
    "state": {},
    "version_major": 2,
    "version_minor": 0
   }
  }
 },
 "nbformat": 4,
 "nbformat_minor": 5
}
